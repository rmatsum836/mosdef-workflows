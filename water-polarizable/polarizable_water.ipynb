{
 "cells": [
  {
   "cell_type": "code",
   "execution_count": null,
   "metadata": {},
   "outputs": [],
   "source": [
    "import mbuild as mb\n",
    "import mdtraj as md\n",
    "import simtk.unit as u\n",
    "import parmed as pmd\n",
    "from simtk.openmm.app import *\n",
    "from simtk.openmm import *\n",
    "from simtk.openmm.app.forcefield import ForceField"
   ]
  },
  {
   "cell_type": "code",
   "execution_count": null,
   "metadata": {},
   "outputs": [],
   "source": [
    "h2o = mb.load('files/water.mol2')\n",
    "h2o.name = 'HOH'"
   ]
  },
  {
   "cell_type": "code",
   "execution_count": null,
   "metadata": {},
   "outputs": [],
   "source": [
    "system = mb.fill_box(compound=h2o,\n",
    "                    n_compounds=512,\n",
    "                    box=[3,3,3])"
   ]
  },
  {
   "cell_type": "code",
   "execution_count": null,
   "metadata": {},
   "outputs": [],
   "source": [
    "system_box = mb.Box([3.5, 3.5, 3.5])\n",
    "solvent = system.to_parmed(residues='HOH', box=system_box)"
   ]
  },
  {
   "cell_type": "code",
   "execution_count": null,
   "metadata": {},
   "outputs": [],
   "source": [
    "solvent.save('init.pdb', overwrite=True)"
   ]
  },
  {
   "cell_type": "code",
   "execution_count": null,
   "metadata": {},
   "outputs": [],
   "source": [
    "temp = 300 * u.kelvin\n",
    "pressure = 1 * u.bar\n",
    "timestep = 0.001 * u.picoseconds\n",
    "sim_time = 1 * u.nanoseconds"
   ]
  },
  {
   "cell_type": "code",
   "execution_count": null,
   "metadata": {},
   "outputs": [],
   "source": [
    "molecule = PDBFile('init.pdb')\n",
    "amoeba = ForceField('amoeba2013.xml')\n",
    "modeller = app.Modeller(molecule.topology, molecule.positions)\n",
    "system = amoeba.createSystem(modeller.topology,\n",
    "                            nonbondedMethod=PME,\n",
    "                            nonbondedCutoff=12*u.angstroms,\n",
    "                            rigidWater=False,\n",
    "                            constraints=HBonds)\n",
    "integrator = VerletIntegrator(timestep)"
   ]
  },
  {
   "cell_type": "code",
   "execution_count": null,
   "metadata": {},
   "outputs": [],
   "source": [
    "sim = Simulation(modeller.topology, system, integrator)\n",
    "sim.context.setPositions(modeller.positions)\n",
    "sim.context.setVelocitiesToTemperature(temp)\n",
    "sim.context.setPeriodicBoxVectors(\n",
    "    modeller.topology.getPeriodicBoxVectors()[0],\n",
    "    modeller.topology.getPeriodicBoxVectors()[1],\n",
    "    modeller.topology.getPeriodicBoxVectors()[2])"
   ]
  },
  {
   "cell_type": "code",
   "execution_count": null,
   "metadata": {},
   "outputs": [],
   "source": [
    "sim.minimizeEnergy(maxIterations=10)"
   ]
  }
 ],
 "metadata": {
  "kernelspec": {
   "display_name": "Python 3",
   "language": "python",
   "name": "python3"
  },
  "language_info": {
   "codemirror_mode": {
    "name": "ipython",
    "version": 3
   },
   "file_extension": ".py",
   "mimetype": "text/x-python",
   "name": "python",
   "nbconvert_exporter": "python",
   "pygments_lexer": "ipython3",
   "version": "3.6.8"
  }
 },
 "nbformat": 4,
 "nbformat_minor": 2
}
